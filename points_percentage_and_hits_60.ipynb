{
 "cells": [
  {
   "cell_type": "code",
   "execution_count": 1,
   "id": "89b85a8f",
   "metadata": {},
   "outputs": [],
   "source": [
    "import pandas as pd"
   ]
  },
  {
   "cell_type": "code",
   "execution_count": 2,
   "id": "e983071d",
   "metadata": {},
   "outputs": [],
   "source": [
    "mp = pd.read_csv(\"merged_moneypuck_data.csv\")"
   ]
  },
  {
   "cell_type": "code",
   "execution_count": 3,
   "id": "e2c024c2",
   "metadata": {},
   "outputs": [],
   "source": [
    "# pd.read_html(\"https://www.hockey-reference.com/leagues/NHL_2011.html\")[1]"
   ]
  },
  {
   "cell_type": "code",
   "execution_count": 4,
   "id": "d6573ada",
   "metadata": {},
   "outputs": [],
   "source": [
    "def merge_years(start, end):\n",
    "    #initialize\n",
    "    data = pd.DataFrame()\n",
    "    year = start\n",
    "    exists = True\n",
    "\n",
    "    #merge years\n",
    "    for year in range(start, end+1):\n",
    "        for i in range(0, 2):\n",
    "            url = f\"https://www.hockey-reference.com/leagues/NHL_{year}.html\"\n",
    "\n",
    "            new_data = pd.read_html(url)[i]\n",
    "            new_data[\"season\"] = year\n",
    "            data = pd.concat([data, new_data])\n",
    "        year += 1\n",
    "\n",
    "    #rename Team col\n",
    "    data.rename(columns={\"Unnamed: 0\": \"FullName\"}, inplace=True)\n",
    "    \n",
    "    #remove stars\n",
    "    data[\"FullName\"] = data[\"FullName\"].str.rstrip(\"*\")\n",
    "    \n",
    "    #replace Phoenix with Arizona\n",
    "    data[\"FullName\"].replace(\"Phoenix Coyotes\", \"Arizona Coyotes\", inplace=True)\n",
    "        \n",
    "    return data"
   ]
  },
  {
   "cell_type": "code",
   "execution_count": 5,
   "id": "f612dd4e",
   "metadata": {},
   "outputs": [],
   "source": [
    "hockeyref = merge_years(2008, 2020)"
   ]
  },
  {
   "cell_type": "code",
   "execution_count": 6,
   "id": "513f338f",
   "metadata": {},
   "outputs": [
    {
     "data": {
      "text/plain": [
       "array(['Atlantic Division', 'Pittsburgh Penguins', 'New Jersey Devils',\n",
       "       'New York Rangers', 'Philadelphia Flyers', 'New York Islanders',\n",
       "       'Northeast Division', 'Montreal Canadiens', 'Ottawa Senators',\n",
       "       'Boston Bruins', 'Buffalo Sabres', 'Toronto Maple Leafs',\n",
       "       'Southeast Division', 'Washington Capitals', 'Carolina Hurricanes',\n",
       "       'Florida Panthers', 'Atlanta Thrashers', 'Tampa Bay Lightning',\n",
       "       'Central Division', 'Detroit Red Wings', 'Nashville Predators',\n",
       "       'Chicago Blackhawks', 'Columbus Blue Jackets', 'St. Louis Blues',\n",
       "       'Northwest Division', 'Minnesota Wild', 'Colorado Avalanche',\n",
       "       'Calgary Flames', 'Vancouver Canucks', 'Edmonton Oilers',\n",
       "       'Pacific Division', 'San Jose Sharks', 'Anaheim Ducks',\n",
       "       'Dallas Stars', 'Arizona Coyotes', 'Los Angeles Kings',\n",
       "       'Winnipeg Jets', 'Metropolitan Division', 'Vegas Golden Knights'],\n",
       "      dtype=object)"
      ]
     },
     "execution_count": 6,
     "metadata": {},
     "output_type": "execute_result"
    }
   ],
   "source": [
    "hockeyref[\"FullName\"].unique()"
   ]
  },
  {
   "cell_type": "code",
   "execution_count": 7,
   "id": "d90c0040",
   "metadata": {
    "scrolled": true
   },
   "outputs": [],
   "source": [
    "merged = pd.merge(mp, hockeyref, how=\"left\", on=[\"FullName\", \"season\"])"
   ]
  },
  {
   "cell_type": "code",
   "execution_count": 8,
   "id": "0d040f17",
   "metadata": {},
   "outputs": [],
   "source": [
    "merged[\"hits60\"] = 3600*(merged[\"hitsFor\"]/merged[\"iceTime\"])"
   ]
  },
  {
   "cell_type": "code",
   "execution_count": 9,
   "id": "bbb9cff2",
   "metadata": {},
   "outputs": [
    {
     "data": {
      "text/plain": [
       "0       13.007310\n",
       "1       17.663397\n",
       "2       20.622085\n",
       "3        8.143357\n",
       "4        5.260411\n",
       "          ...    \n",
       "1965    12.994435\n",
       "1966    25.543370\n",
       "1967    28.810928\n",
       "1968    10.654206\n",
       "1969     5.552440\n",
       "Name: hits60, Length: 1970, dtype: float64"
      ]
     },
     "execution_count": 9,
     "metadata": {},
     "output_type": "execute_result"
    }
   ],
   "source": [
    "merged[\"hits60\"]"
   ]
  },
  {
   "cell_type": "code",
   "execution_count": 10,
   "id": "2a15391a",
   "metadata": {},
   "outputs": [],
   "source": [
    "# Write merged data to a new .csv file\n",
    "merged.to_csv('mp_playoffs_hockeyref.csv')"
   ]
  },
  {
   "cell_type": "code",
   "execution_count": null,
   "id": "222ca521",
   "metadata": {},
   "outputs": [],
   "source": []
  }
 ],
 "metadata": {
  "kernelspec": {
   "display_name": "Python 3 (ipykernel)",
   "language": "python",
   "name": "python3"
  },
  "language_info": {
   "codemirror_mode": {
    "name": "ipython",
    "version": 3
   },
   "file_extension": ".py",
   "mimetype": "text/x-python",
   "name": "python",
   "nbconvert_exporter": "python",
   "pygments_lexer": "ipython3",
   "version": "3.9.7"
  }
 },
 "nbformat": 4,
 "nbformat_minor": 5
}
